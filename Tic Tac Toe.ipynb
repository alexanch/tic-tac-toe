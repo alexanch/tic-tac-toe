{
 "cells": [
  {
   "cell_type": "markdown",
   "metadata": {},
   "source": [
    "### Tic-Tac-Toe Game"
   ]
  },
  {
   "cell_type": "code",
   "execution_count": 1,
   "metadata": {},
   "outputs": [
    {
     "name": "stdout",
     "output_type": "stream",
     "text": [
      "Requirement already satisfied: texttable in c:\\programdata\\anaconda3\\lib\\site-packages (1.6.2)\n"
     ]
    }
   ],
   "source": [
    "# Package isntallation \n",
    "\n",
    "!pip install texttable\n",
    "from texttable import Texttable\n",
    "import os\n",
    "from IPython.display import clear_output\n",
    "import random"
   ]
  },
  {
   "cell_type": "code",
   "execution_count": 2,
   "metadata": {},
   "outputs": [],
   "source": [
    "# choose X or Y to play \n",
    "\n",
    "def choose_marker():\n",
    "    '''\n",
    "    Choose the marker 'X' or 'O' to play\n",
    "    '''\n",
    "    player1 = ''\n",
    "    while player1 !='X' or player1 != 'O':\n",
    "        player1 = input('Choose marker:')\n",
    "        \n",
    "        if player1 == 'X':\n",
    "            return ['X','O']\n",
    "        \n",
    "        elif player1 == 'O':\n",
    "            return ['O','X']\n",
    "    "
   ]
  },
  {
   "cell_type": "code",
   "execution_count": 3,
   "metadata": {},
   "outputs": [],
   "source": [
    "def is_full(lst):\n",
    "    '''\n",
    "    check if the board is full\n",
    "    '''\n",
    "    if '' in lst.values():\n",
    "        return False\n",
    "    else:\n",
    "        return True\n",
    "\n"
   ]
  },
  {
   "cell_type": "code",
   "execution_count": 4,
   "metadata": {},
   "outputs": [],
   "source": [
    "def print_table():\n",
    "        '''\n",
    "        Print the table\n",
    "        '''\n",
    "        clear_output()\n",
    "        t = Texttable()\n",
    "        t.add_rows([[temp['1'], temp['2'], temp['3']], [temp['4'], temp['5'], temp['6']],[temp['7'], temp['8'], temp['9']]])\n",
    "        print(t.draw())\n",
    "            \n"
   ]
  },
  {
   "cell_type": "code",
   "execution_count": 5,
   "metadata": {},
   "outputs": [],
   "source": [
    "def win(temp):\n",
    "    '''\n",
    "    Check if any player won the game\n",
    "    '''\n",
    "    for marker in markers:\n",
    "        if temp['1']==temp['2']==temp['3'] == marker:\n",
    "                    return [True, marker]\n",
    "        elif temp['4']==temp['5']==temp['6'] == marker:\n",
    "                    return [True, marker]  \n",
    "        elif temp['1']==temp['5']==temp['9'] == marker:\n",
    "                    return [True, marker]  \n",
    "        elif temp['3']==temp['5']==temp['7'] == marker:\n",
    "                    return [True, marker]  \n",
    "        elif temp['7']==temp['8']==temp['9'] == marker:\n",
    "                    return [True, marker]\n",
    "        elif temp['1']==temp['4']==temp['7'] == marker:\n",
    "                    return [True, marker]\n",
    "        elif temp['2']==temp['5']==temp['8'] == marker:\n",
    "                    return [True, marker]\n",
    "        elif temp['3']==temp['6']==temp['9'] == marker:\n",
    "                    return [True, marker]\n",
    "        \n",
    "    return False\n",
    "\n",
    "\n",
    "\n",
    "# temp = {'1':'X', '2':'', '3':'', '4':'X', '5':'', '6':'', '7':'X', '8':'', '9':''} \n",
    "# print(win(temp))"
   ]
  },
  {
   "cell_type": "code",
   "execution_count": 6,
   "metadata": {},
   "outputs": [],
   "source": [
    "def play_game():\n",
    "    '''\n",
    "    the game\n",
    "    '''\n",
    "    global markers\n",
    "    markers = choose_marker()\n",
    "    #global temp \n",
    "    global temp\n",
    "    temp = {'1':'', '2':'', '3':'', '4':'', '5':'', '6':'', '7':'', '8':'', '9':''}\n",
    "    k=0\n",
    "    \n",
    "    while (is_full(temp)==False and win(temp)==False):\n",
    "        \n",
    "        if markers[0] =='X':\n",
    "            x = input(f'{markers[k%2]}, your turn:')\n",
    "    \n",
    "            while not (x in ['1','2','3','4','5','6','7','8','9']):\n",
    "                x = input('Choose a number in range [1,9]:')\n",
    "\n",
    "            while temp[x] != '':\n",
    "                x = input('Occupied. Try another one:')\n",
    "\n",
    "            if k%2==0:\n",
    "                    temp[x]='X' \n",
    "                    print_table()\n",
    "                    k+=1\n",
    "            else:\n",
    "                    temp[x]='O'        \n",
    "                    print_table()\n",
    "                    k+=1       \n",
    "        else:\n",
    "            x = input(f'{markers[k%2]}, your turn:')\n",
    "            \n",
    "            while not (x in ['1','2','3','4','5','6','7','8','9']):\n",
    "                x = input('Choose a number in range [1,9]:')\n",
    "\n",
    "            while temp[x] != '':\n",
    "                x = input('Occupied. Try another one:')\n",
    "            \n",
    "            if k%2==1:\n",
    "                    temp[x]='X' \n",
    "                    print_table()\n",
    "                    k+=1\n",
    "            else:\n",
    "                    temp[x]='O'        \n",
    "                    print_table()\n",
    "                    k+=1   \n",
    "            \n",
    "    else:\n",
    "        if  is_full(temp)== True:\n",
    "            print ('TOE')\n",
    "        else:\n",
    "            print(win(temp)[1]+' WON')"
   ]
  },
  {
   "cell_type": "code",
   "execution_count": null,
   "metadata": {},
   "outputs": [
    {
     "name": "stdout",
     "output_type": "stream",
     "text": [
      "+---+---+---+\n",
      "| O | X | O |\n",
      "+===+===+===+\n",
      "| X | O | X |\n",
      "+---+---+---+\n",
      "| O |   |   |\n",
      "+---+---+---+\n",
      "O WON\n"
     ]
    }
   ],
   "source": [
    "# gives a possibility to play several times\n",
    "\n",
    "play_game()\n",
    "while True:\n",
    "    x = input('Play once again: y/n')\n",
    "    clear_output()\n",
    "    if x =='y':\n",
    "        play_game()\n",
    "    else:\n",
    "        break\n",
    "\n"
   ]
  }
 ],
 "metadata": {
  "kernelspec": {
   "display_name": "Python 3",
   "language": "python",
   "name": "python3"
  },
  "language_info": {
   "codemirror_mode": {
    "name": "ipython",
    "version": 3
   },
   "file_extension": ".py",
   "mimetype": "text/x-python",
   "name": "python",
   "nbconvert_exporter": "python",
   "pygments_lexer": "ipython3",
   "version": "3.7.4"
  }
 },
 "nbformat": 4,
 "nbformat_minor": 2
}
